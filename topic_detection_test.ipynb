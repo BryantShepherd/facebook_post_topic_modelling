{
 "metadata": {
  "language_info": {
   "codemirror_mode": {
    "name": "ipython",
    "version": 3
   },
   "file_extension": ".py",
   "mimetype": "text/x-python",
   "name": "python",
   "nbconvert_exporter": "python",
   "pygments_lexer": "ipython3",
   "version": "3.8.5-final"
  },
  "orig_nbformat": 2,
  "kernelspec": {
   "name": "python3",
   "display_name": "Python 3"
  }
 },
 "nbformat": 4,
 "nbformat_minor": 2,
 "cells": [
  {
   "cell_type": "code",
   "execution_count": 16,
   "metadata": {},
   "outputs": [],
   "source": [
    "import pickle\n",
    "import pandas as pd"
   ]
  },
  {
   "cell_type": "code",
   "execution_count": 17,
   "metadata": {},
   "outputs": [
    {
     "output_type": "stream",
     "name": "stdout",
     "text": [
      "      id                                               text\n0  15156  chần_chừ ý_tưởng trái chín thối rữa hành_động ...\n1   9847  hướng_dẫn bò cuộn nấm kim châm nướng ngon nhà_...\n2  13119  thùng chở hàng sản_phẩm thùng chở hàng tpz chu...\n3  10300  bé dặm < bé sẵn_sàng dinh_dưỡng thực_phẩm thíc...\n4   1702  giai_đoạn nước_rút hạn nộp báo_cáo tài_chính h...\n5  11698  đàn_ông vịn sức chịu_đựng đàn_bà vô_hạn vỡ tan...\n6   6405  hlv andersen cộng_đồng nhm incheon_united tán_...\n7  10640  atomy mineral compact phấn_nền khoáng dạng bột...\n8    569  thuê thuê tầng nhà_tầng khép_kín đầy_đủ điều_h...\n9  13840  máy vẽ điều_khiển máy_tính cnc chạy biên dạng ...\n"
     ]
    }
   ],
   "source": [
    "num_rows_to_preview = 10\n",
    "preprocessed_test_data_filename = \"./example_test.csv\"\n",
    "\n",
    "df = pd.read_csv(\"./example_test.csv\", sep='\\t', header=None, names=['text'], dtype={ 'text': str })\n",
    "\n",
    "X = df['text']\n",
    "\n",
    "print(df.head(num_rows_to_preview))"
   ]
  },
  {
   "cell_type": "code",
   "execution_count": 18,
   "metadata": {},
   "outputs": [],
   "source": [
    "trained_model_filename = \"./trained_model.sav\"\n",
    "trained_model = pickle.load(open(trained_model_filename, \"rb\"))\n",
    "\n",
    "y_pred = trained_model.predict(X)\n",
    "\n",
    "y_pred_df = pd.DataFrame(y_pred)\n",
    "y_pred_df.to_csv(\"./example_result.csv\", sep=\"\\t\", header=None, index=None)"
   ]
  }
 ]
}